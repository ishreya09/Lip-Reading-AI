{
 "cells": [
  {
   "cell_type": "code",
   "execution_count": 44,
   "metadata": {},
   "outputs": [],
   "source": [
    "import os\n",
    "import cv2\n",
    "import tensorflow as tf\n",
    "import numpy as np\n",
    "import matplotlib.pyplot as plt\n",
    "from typing import List \n",
    "import imageio # convert numpy arr to gif"
   ]
  },
  {
   "cell_type": "code",
   "execution_count": 45,
   "metadata": {},
   "outputs": [
    {
     "data": {
      "text/plain": [
       "[PhysicalDevice(name='/physical_device:CPU:0', device_type='CPU')]"
      ]
     },
     "execution_count": 45,
     "metadata": {},
     "output_type": "execute_result"
    }
   ],
   "source": [
    "tf.config.list_physical_devices('CPU')"
   ]
  },
  {
   "cell_type": "code",
   "execution_count": 46,
   "metadata": {},
   "outputs": [],
   "source": [
    "physical_devices=tf.config.list_physical_devices('CPU')\n",
    "try:\n",
    "    tf.config.experimental.set_memory_growth(physical_devices[0], True)\n",
    "except:\n",
    "    pass"
   ]
  },
  {
   "cell_type": "markdown",
   "metadata": {},
   "source": [
    "# Build Data Loading Functions"
   ]
  },
  {
   "cell_type": "code",
   "execution_count": 47,
   "metadata": {},
   "outputs": [],
   "source": [
    "# import zipfile\n",
    "\n",
    "# extract data.zip file\n",
    "\n",
    "# with zipfile.ZipFile(\"data.zip\",\"r\") as zip_ref:\n",
    "#     zip_ref.extractall(\"data\")"
   ]
  },
  {
   "cell_type": "code",
   "execution_count": 48,
   "metadata": {},
   "outputs": [],
   "source": [
    "def load_video(path:str)->List[float]:\n",
    "    \"\"\"\n",
    "    Loads a video from a given path and returns a list of frames\n",
    "    \"\"\"\n",
    "    cap = cv2.VideoCapture(path) \n",
    "    frames = []\n",
    "    for _ in range(int(cap.get(cv2.CAP_PROP_FRAME_COUNT))):\n",
    "        ret, frame=cap.read()\n",
    "        frame=tf.image.rgb_to_grayscale(frame)\n",
    "        frames.append(frame[190:236,80:220,:]) # isolating the lip region\n",
    "        # we can also use delib to extract the lip\n",
    "    cap.release()\n",
    "\n",
    "    mean= tf.math.reduce_mean(frames) # scale the data\n",
    "    std=tf.math.reduce_std(tf.cast(frames,tf.float32))\n",
    "    frames=tf.cast((frames-mean),tf.float32)/std\n",
    "    return frames"
   ]
  },
  {
   "cell_type": "code",
   "execution_count": 49,
   "metadata": {},
   "outputs": [],
   "source": [
    "vocab= [x for x in \"abcdefghijklmnopqrstuvwxyz'?!123456789 \"]"
   ]
  },
  {
   "cell_type": "code",
   "execution_count": 99,
   "metadata": {},
   "outputs": [],
   "source": [
    "# Modify the vocab to include special tokens used by StringLookup layers\n",
    "vocab = [x for x in \"abcdefghijklmnopqrstuvwxyz'?!123456789 \"]\n",
    "vocab=[\"[UNK]\"]+vocab"
   ]
  },
  {
   "cell_type": "code",
   "execution_count": 95,
   "metadata": {},
   "outputs": [
    {
     "name": "stdout",
     "output_type": "stream",
     "text": [
      "['[UNK]', 'a', 'b', 'c', 'd', 'e', 'f', 'g', 'h', 'i', 'j', 'k', 'l', 'm', 'n', 'o', 'p', 'q', 'r', 's', 't', 'u', 'v', 'w', 'x', 'y', 'z', \"'\", '?', '!', '1', '2', '3', '4', '5', '6', '7', '8', '9', ' ']\n"
     ]
    }
   ],
   "source": [
    "print(vocab)"
   ]
  },
  {
   "cell_type": "code",
   "execution_count": 100,
   "metadata": {},
   "outputs": [
    {
     "name": "stdout",
     "output_type": "stream",
     "text": [
      "The vocabulary is : ['', '[UNK]', 'a', 'b', 'c', 'd', 'e', 'f', 'g', 'h', 'i', 'j', 'k', 'l', 'm', 'n', 'o', 'p', 'q', 'r', 's', 't', 'u', 'v', 'w', 'x', 'y', 'z', \"'\", '?', '!', '1', '2', '3', '4', '5', '6', '7', '8', '9', ' '](size =41)\n"
     ]
    }
   ],
   "source": [
    "# https://keras.io/examples/audio/ctc_asr/#model\n",
    "\n",
    "# lookup functions to convert and reconvert text to encoding\n",
    "char_to_num = tf.keras.layers.StringLookup(vocabulary=vocab,oov_token=\"\")\n",
    "num_to_char = tf.keras.layers.StringLookup(\n",
    "    vocabulary=char_to_num.get_vocabulary(),invert=True,mask_token=\"\"\n",
    ")\n",
    "print(f\"The vocabulary is : {char_to_num.get_vocabulary()}\"\n",
    "      f\"(size ={char_to_num.vocabulary_size()})\")"
   ]
  },
  {
   "cell_type": "code",
   "execution_count": 101,
   "metadata": {},
   "outputs": [
    {
     "data": {
      "text/plain": [
       "['',\n",
       " '[UNK]',\n",
       " 'a',\n",
       " 'b',\n",
       " 'c',\n",
       " 'd',\n",
       " 'e',\n",
       " 'f',\n",
       " 'g',\n",
       " 'h',\n",
       " 'i',\n",
       " 'j',\n",
       " 'k',\n",
       " 'l',\n",
       " 'm',\n",
       " 'n',\n",
       " 'o',\n",
       " 'p',\n",
       " 'q',\n",
       " 'r',\n",
       " 's',\n",
       " 't',\n",
       " 'u',\n",
       " 'v',\n",
       " 'w',\n",
       " 'x',\n",
       " 'y',\n",
       " 'z',\n",
       " \"'\",\n",
       " '?',\n",
       " '!',\n",
       " '1',\n",
       " '2',\n",
       " '3',\n",
       " '4',\n",
       " '5',\n",
       " '6',\n",
       " '7',\n",
       " '8',\n",
       " '9',\n",
       " ' ']"
      ]
     },
     "execution_count": 101,
     "metadata": {},
     "output_type": "execute_result"
    }
   ],
   "source": [
    "char_to_num.get_vocabulary()"
   ]
  },
  {
   "cell_type": "code",
   "execution_count": 102,
   "metadata": {},
   "outputs": [
    {
     "name": "stdout",
     "output_type": "stream",
     "text": [
      "['', '[UNK]', 'a', 'b', 'c', 'd', 'e', 'f', 'g', 'h', 'i', 'j', 'k', 'l', 'm', 'n', 'o', 'p', 'q', 'r', 's', 't', 'u', 'v', 'w', 'x', 'y', 'z', \"'\", '?', '!', '1', '2', '3', '4', '5', '6', '7', '8', '9', ' ']\n"
     ]
    }
   ],
   "source": [
    "print(num_to_char.get_vocabulary())"
   ]
  },
  {
   "cell_type": "code",
   "execution_count": 103,
   "metadata": {},
   "outputs": [
    {
     "data": {
      "text/plain": [
       "<tf.Tensor: shape=(3,), dtype=int64, numpy=array([2, 3, 4], dtype=int64)>"
      ]
     },
     "execution_count": 103,
     "metadata": {},
     "output_type": "execute_result"
    }
   ],
   "source": [
    "char_to_num(['a','b','c'])"
   ]
  },
  {
   "cell_type": "code",
   "execution_count": 104,
   "metadata": {},
   "outputs": [
    {
     "data": {
      "text/plain": [
       "<tf.Tensor: shape=(4,), dtype=int64, numpy=array([15, 20, 21,  6], dtype=int64)>"
      ]
     },
     "execution_count": 104,
     "metadata": {},
     "output_type": "execute_result"
    }
   ],
   "source": [
    "char_to_num(['n','s','t','e']) # tokenizing the data and returning the tokens"
   ]
  },
  {
   "cell_type": "code",
   "execution_count": 106,
   "metadata": {},
   "outputs": [
    {
     "data": {
      "text/plain": [
       "<tf.Tensor: shape=(4,), dtype=string, numpy=array([b'n', b's', b't', b'e'], dtype=object)>"
      ]
     },
     "execution_count": 106,
     "metadata": {},
     "output_type": "execute_result"
    }
   ],
   "source": [
    "num_to_char([15, 20, 21,6]) # returns byte encoded value"
   ]
  },
  {
   "cell_type": "code",
   "execution_count": 83,
   "metadata": {},
   "outputs": [],
   "source": [
    "# load alignments\n",
    "\n",
    "def load_alignments(path:str)->List[int]:\n",
    "    \"\"\"\n",
    "    Loads the alignments from a given path and returns a list of integers\n",
    "    \"\"\"\n",
    "    with open(path,\"r\") as f:\n",
    "        lines=f.readlines()\n",
    "    tokens=[]\n",
    "    for line in lines:\n",
    "        line=line.split()\n",
    "        # data preprocessing\n",
    "        if(line[2]!='sil'): # sil - silence\n",
    "            tokens=[*tokens,' ',line[2]]\n",
    "    # print(tokens)\n",
    "    # preprocessed alignments\n",
    "    print((tf.reshape(tf.strings.unicode_split(tokens,input_encoding='UTF-8'),(-1)))[1:])\n",
    "    return char_to_num(tf.reshape(tf.strings.unicode_split(tokens,input_encoding='UTF-8'),(-1)))[1:]\n",
    "\n"
   ]
  },
  {
   "cell_type": "code",
   "execution_count": 76,
   "metadata": {},
   "outputs": [],
   "source": [
    "def load_data(path:str):\n",
    "    \"\"\"\n",
    "    Loads the video and alignments from a given path and returns a list of frames and alignments\n",
    "    \"\"\"\n",
    "    path=bytes.decode(path.numpy())\n",
    "    file_name=path.split('\\\\')[-1].split('.')[0]\n",
    "    video_path=os.path.join('data','data','s1',f\"{file_name}.mpg\")\n",
    "    alignment_path=os.path.join('data','data','alignments','s1',f\"{file_name}.align\")\n",
    "    # print(alignment_path)\n",
    "    frames=load_video(video_path)\n",
    "    alignments=load_alignments(alignment_path)\n",
    "\n",
    "    return frames,alignments\n"
   ]
  },
  {
   "cell_type": "code",
   "execution_count": 77,
   "metadata": {},
   "outputs": [],
   "source": [
    "test_path = \"data\\\\data\\\\s1\\\\bbaf2n.mpg\""
   ]
  },
  {
   "cell_type": "code",
   "execution_count": 78,
   "metadata": {},
   "outputs": [
    {
     "data": {
      "text/plain": [
       "'data\\\\data\\\\s1\\\\bbaf2n.mpg'"
      ]
     },
     "execution_count": 78,
     "metadata": {},
     "output_type": "execute_result"
    }
   ],
   "source": [
    "tf.convert_to_tensor(test_path).numpy().decode('utf-8')"
   ]
  },
  {
   "cell_type": "code",
   "execution_count": 79,
   "metadata": {},
   "outputs": [
    {
     "data": {
      "text/plain": [
       "'bbaf2n'"
      ]
     },
     "execution_count": 79,
     "metadata": {},
     "output_type": "execute_result"
    }
   ],
   "source": [
    "tf.convert_to_tensor(test_path).numpy().decode('utf-8').split('\\\\')[-1].split('.')[0]"
   ]
  },
  {
   "cell_type": "code",
   "execution_count": 60,
   "metadata": {},
   "outputs": [
    {
     "data": {
      "text/plain": [
       "(<tf.Tensor: shape=(75, 46, 140, 1), dtype=float32, numpy=\n",
       " array([[[[1.4991665 ],\n",
       "          [1.4991665 ],\n",
       "          [1.4616873 ],\n",
       "          ...,\n",
       "          [0.41227078],\n",
       "          [0.41227078],\n",
       "          [0.41227078]],\n",
       " \n",
       "         [[1.4991665 ],\n",
       "          [1.4991665 ],\n",
       "          [1.4616873 ],\n",
       "          ...,\n",
       "          [0.41227078],\n",
       "          [0.41227078],\n",
       "          [0.41227078]],\n",
       " \n",
       "         [[1.4616873 ],\n",
       "          [1.4616873 ],\n",
       "          [1.4991665 ],\n",
       "          ...,\n",
       "          [0.33731246],\n",
       "          [0.33731246],\n",
       "          [0.33731246]],\n",
       " \n",
       "         ...,\n",
       " \n",
       "         [[1.0494165 ],\n",
       "          [1.0494165 ],\n",
       "          [1.0119374 ],\n",
       "          ...,\n",
       "          [0.11243749],\n",
       "          [0.11243749],\n",
       "          [0.07495832]],\n",
       " \n",
       "         [[1.0494165 ],\n",
       "          [1.0494165 ],\n",
       "          [1.0119374 ],\n",
       "          ...,\n",
       "          [0.11243749],\n",
       "          [0.07495832],\n",
       "          [0.07495832]],\n",
       " \n",
       "         [[1.0494165 ],\n",
       "          [1.0494165 ],\n",
       "          [1.0119374 ],\n",
       "          ...,\n",
       "          [0.07495832],\n",
       "          [0.07495832],\n",
       "          [0.03747916]]],\n",
       " \n",
       " \n",
       "        [[[1.4242082 ],\n",
       "          [1.4242082 ],\n",
       "          [1.4242082 ],\n",
       "          ...,\n",
       "          [0.33731246],\n",
       "          [0.33731246],\n",
       "          [0.33731246]],\n",
       " \n",
       "         [[1.4242082 ],\n",
       "          [1.4242082 ],\n",
       "          [1.4242082 ],\n",
       "          ...,\n",
       "          [0.33731246],\n",
       "          [0.33731246],\n",
       "          [0.33731246]],\n",
       " \n",
       "         [[1.4242082 ],\n",
       "          [1.4242082 ],\n",
       "          [1.4242082 ],\n",
       "          ...,\n",
       "          [0.2998333 ],\n",
       "          [0.2998333 ],\n",
       "          [0.2998333 ]],\n",
       " \n",
       "         ...,\n",
       " \n",
       "         [[1.0494165 ],\n",
       "          [1.0494165 ],\n",
       "          [1.0119374 ],\n",
       "          ...,\n",
       "          [0.11243749],\n",
       "          [0.11243749],\n",
       "          [0.07495832]],\n",
       " \n",
       "         [[1.0494165 ],\n",
       "          [1.0494165 ],\n",
       "          [1.0119374 ],\n",
       "          ...,\n",
       "          [0.11243749],\n",
       "          [0.07495832],\n",
       "          [0.07495832]],\n",
       " \n",
       "         [[1.0494165 ],\n",
       "          [1.0494165 ],\n",
       "          [1.0119374 ],\n",
       "          ...,\n",
       "          [0.07495832],\n",
       "          [0.07495832],\n",
       "          [0.03747916]]],\n",
       " \n",
       " \n",
       "        [[[1.3492498 ],\n",
       "          [1.3492498 ],\n",
       "          [1.3492498 ],\n",
       "          ...,\n",
       "          [0.33731246],\n",
       "          [0.33731246],\n",
       "          [0.33731246]],\n",
       " \n",
       "         [[1.3492498 ],\n",
       "          [1.3492498 ],\n",
       "          [1.3492498 ],\n",
       "          ...,\n",
       "          [0.33731246],\n",
       "          [0.33731246],\n",
       "          [0.33731246]],\n",
       " \n",
       "         [[1.4242082 ],\n",
       "          [1.4242082 ],\n",
       "          [1.386729  ],\n",
       "          ...,\n",
       "          [0.26235414],\n",
       "          [0.2998333 ],\n",
       "          [0.2998333 ]],\n",
       " \n",
       "         ...,\n",
       " \n",
       "         [[0.97445816],\n",
       "          [0.97445816],\n",
       "          [0.936979  ],\n",
       "          ...,\n",
       "          [0.11243749],\n",
       "          [0.11243749],\n",
       "          [0.07495832]],\n",
       " \n",
       "         [[0.97445816],\n",
       "          [0.97445816],\n",
       "          [0.936979  ],\n",
       "          ...,\n",
       "          [0.11243749],\n",
       "          [0.07495832],\n",
       "          [0.07495832]],\n",
       " \n",
       "         [[0.97445816],\n",
       "          [0.97445816],\n",
       "          [0.936979  ],\n",
       "          ...,\n",
       "          [0.07495832],\n",
       "          [0.07495832],\n",
       "          [0.03747916]]],\n",
       " \n",
       " \n",
       "        ...,\n",
       " \n",
       " \n",
       "        [[[1.4991665 ],\n",
       "          [1.4991665 ],\n",
       "          [1.4991665 ],\n",
       "          ...,\n",
       "          [0.2998333 ],\n",
       "          [0.2998333 ],\n",
       "          [0.2998333 ]],\n",
       " \n",
       "         [[1.4242082 ],\n",
       "          [1.4242082 ],\n",
       "          [1.4242082 ],\n",
       "          ...,\n",
       "          [0.2998333 ],\n",
       "          [0.2998333 ],\n",
       "          [0.2998333 ]],\n",
       " \n",
       "         [[1.4616873 ],\n",
       "          [1.4616873 ],\n",
       "          [1.4242082 ],\n",
       "          ...,\n",
       "          [0.2998333 ],\n",
       "          [0.26235414],\n",
       "          [0.26235414]],\n",
       " \n",
       "         ...,\n",
       " \n",
       "         [[1.0868957 ],\n",
       "          [1.0494165 ],\n",
       "          [1.0494165 ],\n",
       "          ...,\n",
       "          [0.07495832],\n",
       "          [0.07495832],\n",
       "          [0.07495832]],\n",
       " \n",
       "         [[1.0494165 ],\n",
       "          [1.0494165 ],\n",
       "          [1.0494165 ],\n",
       "          ...,\n",
       "          [0.07495832],\n",
       "          [0.07495832],\n",
       "          [0.07495832]],\n",
       " \n",
       "         [[1.0494165 ],\n",
       "          [1.0494165 ],\n",
       "          [1.0494165 ],\n",
       "          ...,\n",
       "          [0.07495832],\n",
       "          [0.07495832],\n",
       "          [0.03747916]]],\n",
       " \n",
       " \n",
       "        [[[1.4991665 ],\n",
       "          [1.4991665 ],\n",
       "          [1.5366457 ],\n",
       "          ...,\n",
       "          [0.33731246],\n",
       "          [0.2998333 ],\n",
       "          [0.2998333 ]],\n",
       " \n",
       "         [[1.4242082 ],\n",
       "          [1.4242082 ],\n",
       "          [1.4616873 ],\n",
       "          ...,\n",
       "          [0.33731246],\n",
       "          [0.2998333 ],\n",
       "          [0.2998333 ]],\n",
       " \n",
       "         [[1.4616873 ],\n",
       "          [1.4616873 ],\n",
       "          [1.4242082 ],\n",
       "          ...,\n",
       "          [0.26235414],\n",
       "          [0.2998333 ],\n",
       "          [0.2998333 ]],\n",
       " \n",
       "         ...,\n",
       " \n",
       "         [[1.0494165 ],\n",
       "          [1.0119374 ],\n",
       "          [1.0119374 ],\n",
       "          ...,\n",
       "          [0.03747916],\n",
       "          [0.03747916],\n",
       "          [0.03747916]],\n",
       " \n",
       "         [[1.0494165 ],\n",
       "          [1.0119374 ],\n",
       "          [1.0119374 ],\n",
       "          ...,\n",
       "          [0.03747916],\n",
       "          [0.03747916],\n",
       "          [0.03747916]],\n",
       " \n",
       "         [[1.0119374 ],\n",
       "          [1.0119374 ],\n",
       "          [0.97445816],\n",
       "          ...,\n",
       "          [0.03747916],\n",
       "          [0.03747916],\n",
       "          [0.        ]]],\n",
       " \n",
       " \n",
       "        [[[1.4616873 ],\n",
       "          [1.4616873 ],\n",
       "          [1.4616873 ],\n",
       "          ...,\n",
       "          [0.2998333 ],\n",
       "          [0.2998333 ],\n",
       "          [0.2998333 ]],\n",
       " \n",
       "         [[1.4616873 ],\n",
       "          [1.4616873 ],\n",
       "          [1.4616873 ],\n",
       "          ...,\n",
       "          [0.2998333 ],\n",
       "          [0.2998333 ],\n",
       "          [0.2998333 ]],\n",
       " \n",
       "         [[1.4242082 ],\n",
       "          [1.4242082 ],\n",
       "          [1.386729  ],\n",
       "          ...,\n",
       "          [0.2998333 ],\n",
       "          [0.2998333 ],\n",
       "          [0.2998333 ]],\n",
       " \n",
       "         ...,\n",
       " \n",
       "         [[1.0494165 ],\n",
       "          [1.0119374 ],\n",
       "          [1.0119374 ],\n",
       "          ...,\n",
       "          [0.03747916],\n",
       "          [0.03747916],\n",
       "          [0.03747916]],\n",
       " \n",
       "         [[0.97445816],\n",
       "          [0.936979  ],\n",
       "          [0.97445816],\n",
       "          ...,\n",
       "          [0.03747916],\n",
       "          [0.03747916],\n",
       "          [0.03747916]],\n",
       " \n",
       "         [[0.97445816],\n",
       "          [0.936979  ],\n",
       "          [0.97445816],\n",
       "          ...,\n",
       "          [0.03747916],\n",
       "          [0.03747916],\n",
       "          [0.        ]]]], dtype=float32)>,\n",
       " <tf.Tensor: shape=(21,), dtype=int64, numpy=\n",
       " array([ 2,  9, 14, 39,  2, 12, 21,  5, 39,  1, 20, 39,  6, 39, 20, 23, 15,\n",
       "        39, 14, 15, 23], dtype=int64)>)"
      ]
     },
     "execution_count": 60,
     "metadata": {},
     "output_type": "execute_result"
    }
   ],
   "source": [
    "load_data(tf.convert_to_tensor(test_path))"
   ]
  },
  {
   "cell_type": "code",
   "execution_count": 85,
   "metadata": {},
   "outputs": [
    {
     "name": "stdout",
     "output_type": "stream",
     "text": [
      "[' ', 'bin', ' ', 'blue', ' ', 'at', ' ', 'f', ' ', 'two', ' ', 'now']\n",
      "tf.Tensor(\n",
      "[b'b' b'i' b'n' b' ' b'b' b'l' b'u' b'e' b' ' b'a' b't' b' ' b'f' b' '\n",
      " b't' b'w' b'o' b' ' b'n' b'o' b'w'], shape=(21,), dtype=string)\n"
     ]
    }
   ],
   "source": [
    "frames,alignments= load_data(tf.convert_to_tensor(test_path))"
   ]
  },
  {
   "cell_type": "code",
   "execution_count": 86,
   "metadata": {},
   "outputs": [
    {
     "data": {
      "text/plain": [
       "<tf.Tensor: shape=(21,), dtype=int64, numpy=\n",
       "array([ 2,  9, 14, 39,  2, 12, 21,  5, 39,  1, 20, 39,  6, 39, 20, 23, 15,\n",
       "       39, 14, 15, 23], dtype=int64)>"
      ]
     },
     "execution_count": 86,
     "metadata": {},
     "output_type": "execute_result"
    }
   ],
   "source": [
    "alignments"
   ]
  },
  {
   "cell_type": "code",
   "execution_count": 63,
   "metadata": {},
   "outputs": [
    {
     "data": {
      "text/plain": [
       "<tf.Tensor: shape=(75, 46, 140, 1), dtype=float32, numpy=\n",
       "array([[[[1.4991665 ],\n",
       "         [1.4991665 ],\n",
       "         [1.4616873 ],\n",
       "         ...,\n",
       "         [0.41227078],\n",
       "         [0.41227078],\n",
       "         [0.41227078]],\n",
       "\n",
       "        [[1.4991665 ],\n",
       "         [1.4991665 ],\n",
       "         [1.4616873 ],\n",
       "         ...,\n",
       "         [0.41227078],\n",
       "         [0.41227078],\n",
       "         [0.41227078]],\n",
       "\n",
       "        [[1.4616873 ],\n",
       "         [1.4616873 ],\n",
       "         [1.4991665 ],\n",
       "         ...,\n",
       "         [0.33731246],\n",
       "         [0.33731246],\n",
       "         [0.33731246]],\n",
       "\n",
       "        ...,\n",
       "\n",
       "        [[1.0494165 ],\n",
       "         [1.0494165 ],\n",
       "         [1.0119374 ],\n",
       "         ...,\n",
       "         [0.11243749],\n",
       "         [0.11243749],\n",
       "         [0.07495832]],\n",
       "\n",
       "        [[1.0494165 ],\n",
       "         [1.0494165 ],\n",
       "         [1.0119374 ],\n",
       "         ...,\n",
       "         [0.11243749],\n",
       "         [0.07495832],\n",
       "         [0.07495832]],\n",
       "\n",
       "        [[1.0494165 ],\n",
       "         [1.0494165 ],\n",
       "         [1.0119374 ],\n",
       "         ...,\n",
       "         [0.07495832],\n",
       "         [0.07495832],\n",
       "         [0.03747916]]],\n",
       "\n",
       "\n",
       "       [[[1.4242082 ],\n",
       "         [1.4242082 ],\n",
       "         [1.4242082 ],\n",
       "         ...,\n",
       "         [0.33731246],\n",
       "         [0.33731246],\n",
       "         [0.33731246]],\n",
       "\n",
       "        [[1.4242082 ],\n",
       "         [1.4242082 ],\n",
       "         [1.4242082 ],\n",
       "         ...,\n",
       "         [0.33731246],\n",
       "         [0.33731246],\n",
       "         [0.33731246]],\n",
       "\n",
       "        [[1.4242082 ],\n",
       "         [1.4242082 ],\n",
       "         [1.4242082 ],\n",
       "         ...,\n",
       "         [0.2998333 ],\n",
       "         [0.2998333 ],\n",
       "         [0.2998333 ]],\n",
       "\n",
       "        ...,\n",
       "\n",
       "        [[1.0494165 ],\n",
       "         [1.0494165 ],\n",
       "         [1.0119374 ],\n",
       "         ...,\n",
       "         [0.11243749],\n",
       "         [0.11243749],\n",
       "         [0.07495832]],\n",
       "\n",
       "        [[1.0494165 ],\n",
       "         [1.0494165 ],\n",
       "         [1.0119374 ],\n",
       "         ...,\n",
       "         [0.11243749],\n",
       "         [0.07495832],\n",
       "         [0.07495832]],\n",
       "\n",
       "        [[1.0494165 ],\n",
       "         [1.0494165 ],\n",
       "         [1.0119374 ],\n",
       "         ...,\n",
       "         [0.07495832],\n",
       "         [0.07495832],\n",
       "         [0.03747916]]],\n",
       "\n",
       "\n",
       "       [[[1.3492498 ],\n",
       "         [1.3492498 ],\n",
       "         [1.3492498 ],\n",
       "         ...,\n",
       "         [0.33731246],\n",
       "         [0.33731246],\n",
       "         [0.33731246]],\n",
       "\n",
       "        [[1.3492498 ],\n",
       "         [1.3492498 ],\n",
       "         [1.3492498 ],\n",
       "         ...,\n",
       "         [0.33731246],\n",
       "         [0.33731246],\n",
       "         [0.33731246]],\n",
       "\n",
       "        [[1.4242082 ],\n",
       "         [1.4242082 ],\n",
       "         [1.386729  ],\n",
       "         ...,\n",
       "         [0.26235414],\n",
       "         [0.2998333 ],\n",
       "         [0.2998333 ]],\n",
       "\n",
       "        ...,\n",
       "\n",
       "        [[0.97445816],\n",
       "         [0.97445816],\n",
       "         [0.936979  ],\n",
       "         ...,\n",
       "         [0.11243749],\n",
       "         [0.11243749],\n",
       "         [0.07495832]],\n",
       "\n",
       "        [[0.97445816],\n",
       "         [0.97445816],\n",
       "         [0.936979  ],\n",
       "         ...,\n",
       "         [0.11243749],\n",
       "         [0.07495832],\n",
       "         [0.07495832]],\n",
       "\n",
       "        [[0.97445816],\n",
       "         [0.97445816],\n",
       "         [0.936979  ],\n",
       "         ...,\n",
       "         [0.07495832],\n",
       "         [0.07495832],\n",
       "         [0.03747916]]],\n",
       "\n",
       "\n",
       "       ...,\n",
       "\n",
       "\n",
       "       [[[1.4991665 ],\n",
       "         [1.4991665 ],\n",
       "         [1.4991665 ],\n",
       "         ...,\n",
       "         [0.2998333 ],\n",
       "         [0.2998333 ],\n",
       "         [0.2998333 ]],\n",
       "\n",
       "        [[1.4242082 ],\n",
       "         [1.4242082 ],\n",
       "         [1.4242082 ],\n",
       "         ...,\n",
       "         [0.2998333 ],\n",
       "         [0.2998333 ],\n",
       "         [0.2998333 ]],\n",
       "\n",
       "        [[1.4616873 ],\n",
       "         [1.4616873 ],\n",
       "         [1.4242082 ],\n",
       "         ...,\n",
       "         [0.2998333 ],\n",
       "         [0.26235414],\n",
       "         [0.26235414]],\n",
       "\n",
       "        ...,\n",
       "\n",
       "        [[1.0868957 ],\n",
       "         [1.0494165 ],\n",
       "         [1.0494165 ],\n",
       "         ...,\n",
       "         [0.07495832],\n",
       "         [0.07495832],\n",
       "         [0.07495832]],\n",
       "\n",
       "        [[1.0494165 ],\n",
       "         [1.0494165 ],\n",
       "         [1.0494165 ],\n",
       "         ...,\n",
       "         [0.07495832],\n",
       "         [0.07495832],\n",
       "         [0.07495832]],\n",
       "\n",
       "        [[1.0494165 ],\n",
       "         [1.0494165 ],\n",
       "         [1.0494165 ],\n",
       "         ...,\n",
       "         [0.07495832],\n",
       "         [0.07495832],\n",
       "         [0.03747916]]],\n",
       "\n",
       "\n",
       "       [[[1.4991665 ],\n",
       "         [1.4991665 ],\n",
       "         [1.5366457 ],\n",
       "         ...,\n",
       "         [0.33731246],\n",
       "         [0.2998333 ],\n",
       "         [0.2998333 ]],\n",
       "\n",
       "        [[1.4242082 ],\n",
       "         [1.4242082 ],\n",
       "         [1.4616873 ],\n",
       "         ...,\n",
       "         [0.33731246],\n",
       "         [0.2998333 ],\n",
       "         [0.2998333 ]],\n",
       "\n",
       "        [[1.4616873 ],\n",
       "         [1.4616873 ],\n",
       "         [1.4242082 ],\n",
       "         ...,\n",
       "         [0.26235414],\n",
       "         [0.2998333 ],\n",
       "         [0.2998333 ]],\n",
       "\n",
       "        ...,\n",
       "\n",
       "        [[1.0494165 ],\n",
       "         [1.0119374 ],\n",
       "         [1.0119374 ],\n",
       "         ...,\n",
       "         [0.03747916],\n",
       "         [0.03747916],\n",
       "         [0.03747916]],\n",
       "\n",
       "        [[1.0494165 ],\n",
       "         [1.0119374 ],\n",
       "         [1.0119374 ],\n",
       "         ...,\n",
       "         [0.03747916],\n",
       "         [0.03747916],\n",
       "         [0.03747916]],\n",
       "\n",
       "        [[1.0119374 ],\n",
       "         [1.0119374 ],\n",
       "         [0.97445816],\n",
       "         ...,\n",
       "         [0.03747916],\n",
       "         [0.03747916],\n",
       "         [0.        ]]],\n",
       "\n",
       "\n",
       "       [[[1.4616873 ],\n",
       "         [1.4616873 ],\n",
       "         [1.4616873 ],\n",
       "         ...,\n",
       "         [0.2998333 ],\n",
       "         [0.2998333 ],\n",
       "         [0.2998333 ]],\n",
       "\n",
       "        [[1.4616873 ],\n",
       "         [1.4616873 ],\n",
       "         [1.4616873 ],\n",
       "         ...,\n",
       "         [0.2998333 ],\n",
       "         [0.2998333 ],\n",
       "         [0.2998333 ]],\n",
       "\n",
       "        [[1.4242082 ],\n",
       "         [1.4242082 ],\n",
       "         [1.386729  ],\n",
       "         ...,\n",
       "         [0.2998333 ],\n",
       "         [0.2998333 ],\n",
       "         [0.2998333 ]],\n",
       "\n",
       "        ...,\n",
       "\n",
       "        [[1.0494165 ],\n",
       "         [1.0119374 ],\n",
       "         [1.0119374 ],\n",
       "         ...,\n",
       "         [0.03747916],\n",
       "         [0.03747916],\n",
       "         [0.03747916]],\n",
       "\n",
       "        [[0.97445816],\n",
       "         [0.936979  ],\n",
       "         [0.97445816],\n",
       "         ...,\n",
       "         [0.03747916],\n",
       "         [0.03747916],\n",
       "         [0.03747916]],\n",
       "\n",
       "        [[0.97445816],\n",
       "         [0.936979  ],\n",
       "         [0.97445816],\n",
       "         ...,\n",
       "         [0.03747916],\n",
       "         [0.03747916],\n",
       "         [0.        ]]]], dtype=float32)>"
      ]
     },
     "execution_count": 63,
     "metadata": {},
     "output_type": "execute_result"
    }
   ],
   "source": [
    "frames"
   ]
  },
  {
   "cell_type": "code",
   "execution_count": 64,
   "metadata": {},
   "outputs": [
    {
     "data": {
      "text/plain": [
       "<matplotlib.image.AxesImage at 0x1f31e7c0580>"
      ]
     },
     "execution_count": 64,
     "metadata": {},
     "output_type": "execute_result"
    },
    {
     "data": {
      "image/png": "[encoded data removed]",
      "text/plain": [
       "<Figure size 640x480 with 1 Axes>"
      ]
     },
     "metadata": {},
     "output_type": "display_data"
    }
   ],
   "source": [
    "plt.imshow(frames[0])"
   ]
  },
  {
   "cell_type": "code",
   "execution_count": 65,
   "metadata": {},
   "outputs": [
    {
     "data": {
      "text/plain": [
       "<matplotlib.image.AxesImage at 0x1f31e805780>"
      ]
     },
     "execution_count": 65,
     "metadata": {},
     "output_type": "execute_result"
    },
    {
     "data": {
      "image/png": "[encoded data removed]",
      "text/plain": [
       "<Figure size 640x480 with 1 Axes>"
      ]
     },
     "metadata": {},
     "output_type": "display_data"
    }
   ],
   "source": [
    "plt.imshow(frames[20])"
   ]
  },
  {
   "cell_type": "code",
   "execution_count": 66,
   "metadata": {},
   "outputs": [
    {
     "data": {
      "text/plain": [
       "<matplotlib.image.AxesImage at 0x1f32213e6b0>"
      ]
     },
     "execution_count": 66,
     "metadata": {},
     "output_type": "execute_result"
    },
    {
     "data": {
      "image/png": "[encoded data removed]",
      "text/plain": [
       "<Figure size 640x480 with 1 Axes>"
      ]
     },
     "metadata": {},
     "output_type": "display_data"
    }
   ],
   "source": [
    "plt.imshow(frames[50])"
   ]
  },
  {
   "cell_type": "code",
   "execution_count": 67,
   "metadata": {},
   "outputs": [
    {
     "data": {
      "text/plain": [
       "75"
      ]
     },
     "execution_count": 67,
     "metadata": {},
     "output_type": "execute_result"
    }
   ],
   "source": [
    "len(frames)"
   ]
  },
  {
   "cell_type": "code",
   "execution_count": 87,
   "metadata": {},
   "outputs": [
    {
     "name": "stdout",
     "output_type": "stream",
     "text": [
      "[ 2  9 14 39  2 12 21  5 39  1 20 39  6 39 20 23 15 39 14 15 23]\n",
      "[b'a' b'h' b'm' b'9' b'a' b'k' b't' b'd' b'9' b'' b's' b'9' b'e' b'9' b's'\n",
      " b'v' b'n' b'9' b'm' b'n' b'v']\n",
      "['a', 'h', 'm', '9', 'a', 'k', 't', 'd', '9', '', 's', '9', 'e', '9', 's', 'v', 'n', '9', 'm', 'n', 'v']\n"
     ]
    }
   ],
   "source": [
    "print(alignments.numpy())\n",
    "print(num_to_char(alignments.numpy()).numpy())\n",
    "print([bytes.decode(x) for x in num_to_char(alignments.numpy()).numpy()])\n"
   ]
  },
  {
   "cell_type": "code",
   "execution_count": 69,
   "metadata": {},
   "outputs": [
    {
     "data": {
      "text/plain": [
       "<tf.Tensor: shape=(), dtype=string, numpy=b'ahm9aktd9s9e9svn9mnv'>"
      ]
     },
     "execution_count": 69,
     "metadata": {},
     "output_type": "execute_result"
    }
   ],
   "source": [
    "tf.strings.reduce_join([bytes.decode(x) for x in num_to_char(alignments.numpy()).numpy()])"
   ]
  },
  {
   "cell_type": "code",
   "execution_count": null,
   "metadata": {},
   "outputs": [],
   "source": []
  }
 ],
 "metadata": {
  "kernelspec": {
   "display_name": ".venv",
   "language": "python",
   "name": "python3"
  },
  "language_info": {
   "codemirror_mode": {
    "name": "ipython",
    "version": 3
   },
   "file_extension": ".py",
   "mimetype": "text/x-python",
   "name": "python",
   "nbconvert_exporter": "python",
   "pygments_lexer": "ipython3",
   "version": "3.10.0"
  },
  "orig_nbformat": 4
 },
 "nbformat": 4,
 "nbformat_minor": 2
}
